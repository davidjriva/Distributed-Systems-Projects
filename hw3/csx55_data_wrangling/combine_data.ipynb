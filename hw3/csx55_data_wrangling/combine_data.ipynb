{
 "cells": [
  {
   "cell_type": "code",
   "execution_count": 1,
   "metadata": {},
   "outputs": [],
   "source": [
    "import pandas as pd"
   ]
  },
  {
   "cell_type": "code",
   "execution_count": 8,
   "metadata": {},
   "outputs": [],
   "source": [
    "file_path = \"../analysis.txt\"\n",
    "\n",
    "analysis_df = pd.read_csv(file_path, sep=\"|\", header=None)\n",
    "\n",
    "new_column_names = {\n",
    "    0: 'song_id',\n",
    "    1: 'song_hotttnesss',\n",
    "    2: 'analysis_sample_rate',\n",
    "    3: 'danceability',\n",
    "    4: 'duration',\n",
    "    5: 'end_of_fade_in',\n",
    "    6: 'energy',\n",
    "    7: 'key',\n",
    "    8: 'key_confidence',\n",
    "    9: 'loudness',\n",
    "    10: 'mode',\n",
    "    11: 'mode_confidence',\n",
    "    12: 'start_of_fade_out',\n",
    "    13: 'tempo',\n",
    "    14: 'time_signature',\n",
    "    15: 'time_signature_confidence',\n",
    "    16: 'track_id',\n",
    "    17: 'segments_start',\n",
    "    18: 'segments_confidence',\n",
    "    19: 'segments_pitches',\n",
    "    20: 'segments_timbre',\n",
    "    21: 'segments_loudness_max',\n",
    "    22: 'segments_loudness_max_time',\n",
    "    23: 'segments_loudness_start',\n",
    "    24: 'sections_start',\n",
    "    25: 'sections_confidence',\n",
    "    26: 'beats_start',\n",
    "    27: 'beats_confidence',\n",
    "    28: 'bars_start',\n",
    "    29: 'bars_confidence',\n",
    "    30: 'tatums_start',\n",
    "    31: 'tatums_confidence'\n",
    "}\n",
    "\n",
    "# Rename the columns\n",
    "analysis_df = analysis_df.rename(columns=new_column_names)"
   ]
  },
  {
   "cell_type": "code",
   "execution_count": 9,
   "metadata": {},
   "outputs": [],
   "source": [
    "metadata_file_path = \"../metadata.txt\"\n",
    "\n",
    "metadata_df = pd.read_csv(metadata_file_path, sep=\"|\", header=None)\n",
    "\n",
    "new_column_names = {\n",
    "    0: 'artist_familiarity',\n",
    "    1: 'artist_hotttnesss',\n",
    "    2: 'artist_id',\n",
    "    3: 'artist_latitude',\n",
    "    4: 'artist_longitude',\n",
    "    5: 'artist_location',\n",
    "    6: 'artist_name',\n",
    "    7: 'song_id',\n",
    "    8: 'title',\n",
    "    9: 'similar_artists',\n",
    "    10: 'artist_terms',\n",
    "    11: 'artist_terms_freq',\n",
    "    12: 'artist_terms_weight',\n",
    "    13: 'year'\n",
    "}\n",
    "\n",
    "\n",
    "# Rename the columns\n",
    "metadata_df = metadata_df.rename(columns=new_column_names)"
   ]
  },
  {
   "cell_type": "code",
   "execution_count": 12,
   "metadata": {},
   "outputs": [],
   "source": [
    "# join together data frames on foreign key \n",
    "combined_df = pd.merge(analysis_df, metadata_df, on=\"song_id\")\n",
    "combined_df.to_csv(\"combined.txt\", sep=\"|\", index=False, header=False)"
   ]
  }
 ],
 "metadata": {
  "kernelspec": {
   "display_name": "Python 3",
   "language": "python",
   "name": "python3"
  },
  "language_info": {
   "codemirror_mode": {
    "name": "ipython",
    "version": 3
   },
   "file_extension": ".py",
   "mimetype": "text/x-python",
   "name": "python",
   "nbconvert_exporter": "python",
   "pygments_lexer": "ipython3",
   "version": "3.9.6"
  },
  "orig_nbformat": 4
 },
 "nbformat": 4,
 "nbformat_minor": 2
}
